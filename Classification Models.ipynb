{
 "cells": [
  {
   "cell_type": "markdown",
   "metadata": {},
   "source": [
    "## Building Classification Models and Parameter Tunning?"
   ]
  },
  {
   "cell_type": "markdown",
   "metadata": {},
   "source": [
    "#Brief Explanation "
   ]
  },
  {
   "cell_type": "markdown",
   "metadata": {},
   "source": [
    "### Load Data and Compute TFIDF Matrix"
   ]
  },
  {
   "cell_type": "code",
   "execution_count": 1,
   "metadata": {},
   "outputs": [],
   "source": [
    "def scikit_TFIDF(n_feat,Train,Test):\n",
    "    \n",
    "    '''This method returns the TFIDF matrixes for both training and testing data'''\n",
    "    t=TfidfVectorizer(max_features=n_feat)\n",
    "    tfidf_train = t.fit_transform(Train.values.astype('U')).toarray()\n",
    "    tfidf_test= t.transform(Test.values.astype('U')).toarray()\n",
    "    \n",
    "    return tfidf_train,tfidf_test"
   ]
  },
  {
   "cell_type": "code",
   "execution_count": 2,
   "metadata": {},
   "outputs": [],
   "source": [
    "import pandas as pd\n",
    "from sklearn.model_selection import train_test_split\n",
    "from sklearn.feature_extraction.text import CountVectorizer\n",
    "from sklearn.feature_extraction.text import TfidfVectorizer\n",
    "from sklearn.feature_extraction.text import TfidfTransformer\n",
    "from textblob import TextBlob\n",
    "\n",
    "# Load the data\n",
    "positive=pd.read_table(\"positive-words.txt\")\n",
    "negative=pd.read_table(\"negative-words.txt\")\n",
    "\n",
    "#Load Sentiment104 Processed Data \n",
    "Sentiment=pd.read_csv(\"Tweets_50kProc.csv\")\n",
    "y=Sentiment.label\n",
    "X=Sentiment.tweets\n",
    "\n",
    "\n",
    "#Make sure that the tweets have correct language\n",
    "\n",
    "\n",
    "\n",
    "#40,000 and #10,000\n",
    "train_X,test_X,train_y,text_y=train_test_split(X,y,test_size=0.2,random_state=123)\n",
    "\n",
    "#Compyte the TFIDF matrix\n",
    "tfidf_Train,tfidf_Test=scikit_TFIDF(20000,train_X,test_X)"
   ]
  },
  {
   "cell_type": "markdown",
   "metadata": {},
   "source": [
    "TFIDF Matrix is computed as... "
   ]
  },
  {
   "cell_type": "markdown",
   "metadata": {},
   "source": [
    "### Baseline Model \n",
    "\n",
    "This model just looks at count data and see if words in the text are in the positive or negative list and makes classification accordingly.\n"
   ]
  },
  {
   "cell_type": "code",
   "execution_count": 72,
   "metadata": {},
   "outputs": [],
   "source": [
    "#from textblob import TextBlob\n",
    "#ind = [TextBlob(text).word_counts for text in X)]"
   ]
  },
  {
   "cell_type": "markdown",
   "metadata": {},
   "source": [
    "### SVM Using TFIDF with hinge loss"
   ]
  },
  {
   "cell_type": "code",
   "execution_count": 3,
   "metadata": {},
   "outputs": [],
   "source": [
    "import pandas as pd\n",
    "from sklearn import svm\n",
    "import csv\n",
    "from sklearn.metrics import accuracy_score\n",
    "from sklearn.metrics import classification_report\n",
    "\n",
    "# Build SVM Model\n",
    "model = svm.LinearSVC(max_iter = 10000, intercept_scaling = 1, C=1,loss = 'hinge')\n",
    "# Fit Model\n",
    "model.fit(tfidf_Train, train_y)\n",
    "# Prediction\n",
    "pred = model.predict(tfidf_Test)\n",
    "\n"
   ]
  },
  {
   "cell_type": "code",
   "execution_count": 4,
   "metadata": {},
   "outputs": [
    {
     "name": "stdout",
     "output_type": "stream",
     "text": [
      "             precision    recall  f1-score   support\n",
      "\n",
      "          0       0.78      0.77      0.78      5022\n",
      "          4       0.77      0.78      0.78      4978\n",
      "\n",
      "avg / total       0.78      0.78      0.78     10000\n",
      "\n"
     ]
    }
   ],
   "source": [
    "print(classification_report(pred,text_y))"
   ]
  },
  {
   "cell_type": "code",
   "execution_count": 5,
   "metadata": {},
   "outputs": [
    {
     "name": "stdout",
     "output_type": "stream",
     "text": [
      "0.7759\n"
     ]
    }
   ],
   "source": [
    "print(accuracy_score(pred,text_y))"
   ]
  },
  {
   "cell_type": "code",
   "execution_count": 6,
   "metadata": {},
   "outputs": [
    {
     "name": "stdout",
     "output_type": "stream",
     "text": [
      "0.7537\n"
     ]
    }
   ],
   "source": [
    "import numpy as np\n",
    "\n",
    "# Build SVM Model\n",
    "model = svm.LinearSVC(max_iter = 10000, intercept_scaling = 1, C=10,loss = 'hinge')\n",
    "# Fit Model\n",
    "model.fit(tfidf_Train, train_y)\n",
    "# Prediction\n",
    "pred = model.predict(tfidf_Test)\n",
    "#Save accuracy\n",
    "print(accuracy_score(pred,text_y))"
   ]
  },
  {
   "cell_type": "code",
   "execution_count": null,
   "metadata": {},
   "outputs": [
    {
     "name": "stdout",
     "output_type": "stream",
     "text": [
      "0.7637\n"
     ]
    }
   ],
   "source": [
    "# Build SVM Model\n",
    "model = svm.LinearSVC(max_iter = 10000, intercept_scaling = 1, C=0.1,loss = 'hinge')\n",
    "# Fit Model\n",
    "model.fit(tfidf_Train, train_y)\n",
    "# Prediction\n",
    "pred = model.predict(tfidf_Test)\n",
    "#Save accuracy\n",
    "print(accuracy_score(pred,text_y))"
   ]
  },
  {
   "cell_type": "markdown",
   "metadata": {},
   "source": [
    "Since the value of C controls the margins for the SVM classifier, I want to test 3 different values of C to see if there is an effect in the accuracy.\n"
   ]
  },
  {
   "cell_type": "markdown",
   "metadata": {},
   "source": [
    "### What about using other kernels? Gaussian and Sigmoid"
   ]
  },
  {
   "cell_type": "code",
   "execution_count": null,
   "metadata": {},
   "outputs": [],
   "source": [
    "rbf_SVM=svm.SVC(kernel=\"rbf\",C=1,gamma=5)\n",
    "rbf_SVM.fit(tfidf_Train, train_y)\n",
    "pred=rbf_SVM.predict(tfidf_Test)\n",
    "print(classification_report(pred,text_y))"
   ]
  },
  {
   "cell_type": "code",
   "execution_count": null,
   "metadata": {},
   "outputs": [],
   "source": []
  },
  {
   "cell_type": "markdown",
   "metadata": {},
   "source": [
    "### Neural Network with TFDIF"
   ]
  },
  {
   "cell_type": "code",
   "execution_count": null,
   "metadata": {},
   "outputs": [],
   "source": []
  },
  {
   "cell_type": "markdown",
   "metadata": {},
   "source": [
    "### Sentiment Classifier https://pypi.org/project/sentiment_classifier/\n",
    "    "
   ]
  },
  {
   "cell_type": "code",
   "execution_count": 91,
   "metadata": {},
   "outputs": [
    {
     "data": {
      "text/plain": [
       "1"
      ]
     },
     "execution_count": 91,
     "metadata": {},
     "output_type": "execute_result"
    }
   ],
   "source": [
    "from senti_classifier import senti_classifier\n",
    "pos_score, neg_score = senti_classifier.polarity_scores()\n",
    "\n"
   ]
  },
  {
   "cell_type": "markdown",
   "metadata": {},
   "source": [
    "## Performance of Models"
   ]
  },
  {
   "cell_type": "code",
   "execution_count": null,
   "metadata": {},
   "outputs": [],
   "source": [
    "CONFUSION MATRICES, AUC ROC CURVES"
   ]
  }
 ],
 "metadata": {
  "kernelspec": {
   "display_name": "Python 3",
   "language": "python",
   "name": "python3"
  },
  "language_info": {
   "codemirror_mode": {
    "name": "ipython",
    "version": 3
   },
   "file_extension": ".py",
   "mimetype": "text/x-python",
   "name": "python",
   "nbconvert_exporter": "python",
   "pygments_lexer": "ipython3",
   "version": "3.6.4"
  }
 },
 "nbformat": 4,
 "nbformat_minor": 2
}
