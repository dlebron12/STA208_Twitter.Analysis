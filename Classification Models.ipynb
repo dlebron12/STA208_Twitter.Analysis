{
 "cells": [
  {
   "cell_type": "markdown",
   "metadata": {},
   "source": [
    "## Building Classification Models and Parameter Tunning"
   ]
  },
  {
   "cell_type": "markdown",
   "metadata": {},
   "source": [
    "#Brief Explanation "
   ]
  },
  {
   "cell_type": "markdown",
   "metadata": {},
   "source": [
    "### Load Data and Compute TFIDF Matrix"
   ]
  },
  {
   "cell_type": "code",
   "execution_count": 1,
   "metadata": {},
   "outputs": [],
   "source": [
    "def scikit_TFIDF(n_feat,Train,Test):\n",
    "    \n",
    "    '''This method returns the TFIDF matrixes for both training and testing data'''\n",
    "    t=TfidfVectorizer(max_features=n_feat)\n",
    "    tfidf_train = t.fit_transform(Train.values.astype('U')).toarray()\n",
    "    tfidf_test= t.transform(Test.values.astype('U')).toarray()\n",
    "    \n",
    "    return tfidf_train,tfidf_test"
   ]
  },
  {
   "cell_type": "code",
   "execution_count": 2,
   "metadata": {},
   "outputs": [],
   "source": [
    "import pandas as pd\n",
    "from sklearn.model_selection import train_test_split\n",
    "from sklearn.feature_extraction.text import CountVectorizer\n",
    "from sklearn.feature_extraction.text import TfidfVectorizer\n",
    "from sklearn.feature_extraction.text import TfidfTransformer\n",
    "\n",
    "\n",
    "# Load the data\n",
    "positive=pd.read_table(\"positive-words.txt\")\n",
    "negative=pd.read_table(\"negative-words.txt\")\n",
    "\n",
    "#Load Sentiment104 Processed Data \n",
    "Sentiment=pd.read_csv(\"Tweets_50kProc.csv\")\n",
    "y=Sentiment.label\n",
    "X=Sentiment.tweets\n",
    "\n",
    "#Change label instead of 0-4 to 0-1\n",
    "y_bin=[1 if x > 0 else 0 for x in y]\n",
    "#40,000 and #10,000\n",
    "train_X,test_X,train_y,text_y=train_test_split(X,y_bin,test_size=0.2,random_state=123)\n",
    "\n",
    "#Compyte the TFIDF matrix\n",
    "tfidf_Train,tfidf_Test=scikit_TFIDF(20000,train_X,test_X)"
   ]
  },
  {
   "cell_type": "markdown",
   "metadata": {},
   "source": [
    "### Baseline Model : Polarity Based Model\n"
   ]
  },
  {
   "cell_type": "code",
   "execution_count": 15,
   "metadata": {},
   "outputs": [],
   "source": [
    "from textblob import TextBlob\n",
    "from sklearn.metrics import accuracy_score\n",
    "import numpy as np\n",
    "\n",
    "#This will use just the training part of the dataset to compute accuracies.\n",
    "\n",
    "def Baseline_Model(tweets):\n",
    "    labels=[]\n",
    "    for i in range(0,len(tweets)):\n",
    "        pol,subj=TextBlob(str(tweets[i])).sentiment\n",
    "        if pol < 0:\n",
    "            label=1\n",
    "        else:\n",
    "            label=0\n",
    "        labels.append(label)\n",
    "    return labels\n",
    "\n",
    "pred=Baseline_Model(np.array(train_X))"
   ]
  },
  {
   "cell_type": "code",
   "execution_count": 57,
   "metadata": {},
   "outputs": [
    {
     "data": {
      "text/plain": [
       "0.39108477711942796"
      ]
     },
     "execution_count": 57,
     "metadata": {},
     "output_type": "execute_result"
    }
   ],
   "source": [
    "accuracy_score(pred,train_y)"
   ]
  },
  {
   "cell_type": "markdown",
   "metadata": {},
   "source": [
    "### SVM Using TFIDF with hinge loss"
   ]
  },
  {
   "cell_type": "code",
   "execution_count": null,
   "metadata": {},
   "outputs": [],
   "source": [
    "import pandas as pd\n",
    "from sklearn import svm\n",
    "import csv\n",
    "from sklearn.metrics import classification_report\n",
    "\n",
    "# Build SVM Model\n",
    "model = svm.LinearSVC(max_iter = 10000, intercept_scaling = 1, C=1,loss = 'hinge')\n",
    "# Fit Model\n",
    "model.fit(tfidf_Train, train_y)\n",
    "# Prediction\n",
    "pred = model.predict(tfidf_Test)\n",
    "\n"
   ]
  },
  {
   "cell_type": "code",
   "execution_count": null,
   "metadata": {},
   "outputs": [],
   "source": [
    "print(classification_report(pred,text_y))"
   ]
  },
  {
   "cell_type": "code",
   "execution_count": null,
   "metadata": {},
   "outputs": [],
   "source": [
    "print(accuracy_score(pred,text_y))"
   ]
  },
  {
   "cell_type": "code",
   "execution_count": null,
   "metadata": {},
   "outputs": [],
   "source": [
    "import numpy as np\n",
    "\n",
    "# Build SVM Model\n",
    "model = svm.LinearSVC(max_iter = 10000, intercept_scaling = 1, C=10,loss = 'hinge')\n",
    "# Fit Model\n",
    "model.fit(tfidf_Train, train_y)\n",
    "# Prediction\n",
    "pred = model.predict(tfidf_Test)\n",
    "#Save accuracy\n",
    "print(accuracy_score(pred,text_y))"
   ]
  },
  {
   "cell_type": "code",
   "execution_count": null,
   "metadata": {},
   "outputs": [],
   "source": [
    "# Build SVM Model\n",
    "model = svm.LinearSVC(max_iter = 10000, intercept_scaling = 1, C=0.1,loss = 'hinge')\n",
    "# Fit Model\n",
    "model.fit(tfidf_Train, train_y)\n",
    "# Prediction\n",
    "pred = model.predict(tfidf_Test)\n",
    "#Save accuracy\n",
    "print(accuracy_score(pred,text_y))"
   ]
  },
  {
   "cell_type": "markdown",
   "metadata": {},
   "source": [
    "Since the value of C controls the margins for the SVM classifier, I want to test 3 different values of C to see if there is an effect in the accuracy.\n"
   ]
  },
  {
   "cell_type": "markdown",
   "metadata": {},
   "source": [
    "### What about using other kernels? Gaussian and Sigmoid  \n",
    "####COMPUTER FREEZES!"
   ]
  },
  {
   "cell_type": "code",
   "execution_count": null,
   "metadata": {},
   "outputs": [],
   "source": [
    "rbf_SVM=svm.SVC(kernel=\"sigmoid\",C=1)\n",
    "rbf_SVM.fit(tfidf_Train, train_y)\n",
    "pred=rbf_SVM.predict(tfidf_Test)\n",
    "print(classification_report(pred,text_y))\n"
   ]
  },
  {
   "cell_type": "code",
   "execution_count": null,
   "metadata": {},
   "outputs": [],
   "source": [
    "print(accuracy_score(pred,text_y))"
   ]
  },
  {
   "cell_type": "markdown",
   "metadata": {},
   "source": [
    "###  Logistic Regression"
   ]
  },
  {
   "cell_type": "code",
   "execution_count": 16,
   "metadata": {},
   "outputs": [
    {
     "data": {
      "text/plain": [
       "0.7774"
      ]
     },
     "execution_count": 16,
     "metadata": {},
     "output_type": "execute_result"
    }
   ],
   "source": [
    "from sklearn.linear_model import LogisticRegression\n",
    "import numpy as np\n",
    "\n",
    "#For C=1\n",
    "log=LogisticRegression(C=1)\n",
    "log.fit(tfidf_Train,train_y)\n",
    "pred_log=log.predict(tfidf_Test)\n",
    "\n",
    "accuracy_score(pred_log,text_y)"
   ]
  },
  {
   "cell_type": "markdown",
   "metadata": {},
   "source": [
    "### Test different penalty parameters\n"
   ]
  },
  {
   "cell_type": "code",
   "execution_count": 25,
   "metadata": {},
   "outputs": [
    {
     "name": "stdout",
     "output_type": "stream",
     "text": [
      "0.7774\n",
      "0.777\n",
      "0.7757\n",
      "0.7748\n",
      "0.7736\n",
      "0.7725\n",
      "0.7707\n",
      "0.7693\n",
      "0.7689\n"
     ]
    }
   ],
   "source": [
    "C=np.linspace(1,10,1,endpoint=False)\n",
    "for c in range(1,10):\n",
    "    log=LogisticRegression(C=c)\n",
    "    log.fit(tfidf_Train,train_y)\n",
    "    pred_log=log.predict(tfidf_Test)\n",
    "    print(accuracy_score(pred_log,text_y))\n",
    "\n"
   ]
  },
  {
   "cell_type": "code",
   "execution_count": 26,
   "metadata": {},
   "outputs": [
    {
     "data": {
      "text/plain": [
       "0.7037"
      ]
     },
     "execution_count": 26,
     "metadata": {},
     "output_type": "execute_result"
    }
   ],
   "source": [
    "#test with a smaller value of C \n",
    "\n",
    "log=LogisticRegression(C=0.001)\n",
    "log.fit(tfidf_Train,train_y)\n",
    "pred_log=log.predict(tfidf_Test)\n",
    "\n",
    "accuracy_score(pred_log,text_y)"
   ]
  },
  {
   "cell_type": "markdown",
   "metadata": {},
   "source": [
    "### Neural Network with TFDIF"
   ]
  },
  {
   "cell_type": "code",
   "execution_count": 36,
   "metadata": {},
   "outputs": [
    {
     "name": "stdout",
     "output_type": "stream",
     "text": [
      "_________________________________________________________________\n",
      "Layer (type)                 Output Shape              Param #   \n",
      "=================================================================\n",
      "dense_13 (Dense)             (None, 50)                1000050   \n",
      "_________________________________________________________________\n",
      "dropout_5 (Dropout)          (None, 50)                0         \n",
      "_________________________________________________________________\n",
      "dense_14 (Dense)             (None, 50)                2550      \n",
      "_________________________________________________________________\n",
      "dense_15 (Dense)             (None, 1)                 51        \n",
      "=================================================================\n",
      "Total params: 1,002,651\n",
      "Trainable params: 1,002,651\n",
      "Non-trainable params: 0\n",
      "_________________________________________________________________\n"
     ]
    }
   ],
   "source": [
    "from keras.utils import to_categorical\n",
    "from keras import models\n",
    "from keras import layers\n",
    "\n",
    "model = models.Sequential()\n",
    "# Input - Layer\n",
    "model.add(layers.Dense(50, activation = \"relu\", input_shape=(20000, )))\n",
    "\n",
    "# Hidden - Layers\n",
    "model.add(layers.Dropout(0.3, noise_shape=None, seed=None))\n",
    "model.add(layers.Dense(50, activation = \"relu\"))\n",
    "\n",
    "# Output- Layer\n",
    "model.add(layers.Dense(1, activation = \"sigmoid\"))\n",
    "model.summary()\n",
    "\n",
    "# compiling the model\n",
    "model.compile(optimizer = \"adam\",loss = \"binary_crossentropy\",metrics = [\"accuracy\"])\n"
   ]
  },
  {
   "cell_type": "code",
   "execution_count": 39,
   "metadata": {},
   "outputs": [
    {
     "name": "stdout",
     "output_type": "stream",
     "text": [
      "Train on 39999 samples, validate on 10000 samples\n",
      "Epoch 1/3\n",
      "39999/39999 [==============================] - 19s 465us/step - loss: 0.2219 - acc: 0.9127 - val_loss: 0.6122 - val_acc: 0.7577\n",
      "Epoch 2/3\n",
      "39999/39999 [==============================] - 20s 489us/step - loss: 0.1872 - acc: 0.9272 - val_loss: 0.6649 - val_acc: 0.7540\n",
      "Epoch 3/3\n",
      "39999/39999 [==============================] - 19s 475us/step - loss: 0.1574 - acc: 0.9421 - val_loss: 0.7307 - val_acc: 0.7494\n",
      "Test-Accuracy: 0.7536999980608622\n"
     ]
    }
   ],
   "source": [
    "results = model.fit(tfidf_Train, train_y, epochs= 3, batch_size = 500, validation_data = (tfidf_Test, text_y))\n",
    "print(\"Test-Accuracy:\", np.mean(results.history[\"val_acc\"]))"
   ]
  },
  {
   "cell_type": "markdown",
   "metadata": {},
   "source": [
    "#best validation after 1 epoch after that it starts to decrease in generalization.  "
   ]
  },
  {
   "cell_type": "markdown",
   "metadata": {},
   "source": [
    "### Neural Network with tanh activation function for output\n",
    "\n"
   ]
  },
  {
   "cell_type": "code",
   "execution_count": 44,
   "metadata": {},
   "outputs": [
    {
     "name": "stdout",
     "output_type": "stream",
     "text": [
      "_________________________________________________________________\n",
      "Layer (type)                 Output Shape              Param #   \n",
      "=================================================================\n",
      "dense_25 (Dense)             (None, 50)                1000050   \n",
      "_________________________________________________________________\n",
      "dropout_9 (Dropout)          (None, 50)                0         \n",
      "_________________________________________________________________\n",
      "dense_26 (Dense)             (None, 50)                2550      \n",
      "_________________________________________________________________\n",
      "dense_27 (Dense)             (None, 1)                 51        \n",
      "=================================================================\n",
      "Total params: 1,002,651\n",
      "Trainable params: 1,002,651\n",
      "Non-trainable params: 0\n",
      "_________________________________________________________________\n",
      "Train on 39999 samples, validate on 10000 samples\n",
      "Epoch 1/3\n",
      "39999/39999 [==============================] - 25s 624us/step - loss: 0.6676 - acc: 0.6986 - val_loss: 0.6089 - val_acc: 0.7589\n",
      "Epoch 2/3\n",
      "39999/39999 [==============================] - 22s 543us/step - loss: 0.5206 - acc: 0.7906 - val_loss: 0.4817 - val_acc: 0.7740\n",
      "Epoch 3/3\n",
      "39999/39999 [==============================] - 20s 504us/step - loss: 0.4047 - acc: 0.8247 - val_loss: 0.4769 - val_acc: 0.7752\n",
      "Test-Accuracy: 0.7693666696548463\n"
     ]
    }
   ],
   "source": [
    "from keras.utils import to_categorical\n",
    "from keras import models\n",
    "from keras import layers\n",
    "\n",
    "model = models.Sequential()\n",
    "# Input - Layer\n",
    "model.add(layers.Dense(50, activation = \"relu\", input_shape=(20000, )))\n",
    "\n",
    "# Hidden - Layers\n",
    "model.add(layers.Dropout(0.3, noise_shape=None, seed=None))\n",
    "model.add(layers.Dense(50, activation = \"relu\"))\n",
    "\n",
    "# Output- Layer\n",
    "model.add(layers.Dense(1, activation = \"sigmoid\"))\n",
    "model.summary()\n",
    "\n",
    "# compiling the model\n",
    "model.compile(optimizer = \"adam\",loss = \"binary_crossentropy\",metrics = [\"accuracy\"])\n",
    "\n",
    "results_tanh = model.fit(tfidf_Train, train_y, epochs= 3, batch_size = 1000, validation_data = (tfidf_Test, text_y))\n",
    "print(\"Test-Accuracy:\", np.mean(results_tanh.history[\"val_acc\"]))\n",
    "\n",
    "#best after second epoch."
   ]
  },
  {
   "cell_type": "markdown",
   "metadata": {},
   "source": [
    "## Performance of Models"
   ]
  },
  {
   "cell_type": "code",
   "execution_count": null,
   "metadata": {},
   "outputs": [],
   "source": [
    "CONFUSION MATRICES, AUC ROC CURVES"
   ]
  },
  {
   "cell_type": "markdown",
   "metadata": {},
   "source": [
    "## Validation with Trump Tweets\n",
    "\n",
    "From our 4 models tested the best model was a Logistic Regression with C=1. We will use such model to make predictions about Trump Tweets."
   ]
  },
  {
   "cell_type": "code",
   "execution_count": 52,
   "metadata": {},
   "outputs": [],
   "source": [
    "import pandas as pd\n",
    " \n",
    "Trump=pd.read_csv(\"Trump_Processed.csv\")\n",
    "tfidf_Train,tfidf_Trump=scikit_TFIDF(20000,train_X,Trump.tweets)"
   ]
  },
  {
   "cell_type": "code",
   "execution_count": 53,
   "metadata": {},
   "outputs": [],
   "source": [
    "from sklearn.linear_model import LogisticRegression\n",
    "lr=LogisticRegression(C=1)\n",
    "log.fit(tfidf_Train,train_y)\n",
    "pred_log=log.predict(tfidf_Trump)"
   ]
  },
  {
   "cell_type": "code",
   "execution_count": 62,
   "metadata": {},
   "outputs": [
    {
     "name": "stdout",
     "output_type": "stream",
     "text": [
      "Number of Positive Tweets 18099 with proportion: 0.5956557511930228 \n",
      "\n",
      "Number of Negative Tweets 12286 with proportion: 0.4043442488069771 \n",
      "\n"
     ]
    }
   ],
   "source": [
    "#Positive and Negative Predicted Tweets\n",
    "n=len(Trump.tweets)\n",
    "print(\"Number of Positive Trump Tweets\",list(pred_log).count(1), \"with proportion:\",list(pred_log).count(1)/n,\"\\n\")\n",
    "print(\"Number of Negative Trump Tweets\",list(pred_log).count(0), \"with proportion:\",list(pred_log).count(0)/n,\"\\n\")"
   ]
  },
  {
   "cell_type": "code",
   "execution_count": 64,
   "metadata": {},
   "outputs": [],
   "source": [
    "negative_tweets=Trump.tweets[pred_log != 1]"
   ]
  },
  {
   "cell_type": "code",
   "execution_count": 77,
   "metadata": {},
   "outputs": [
    {
     "data": {
      "text/plain": [
       "'no wonder the today show on biased  is doing so badly compared to its glorious past little credibility'"
      ]
     },
     "execution_count": 77,
     "metadata": {},
     "output_type": "execute_result"
    }
   ],
   "source": [
    "import nltk\n",
    "from nltk.corpus import stopwords\n",
    "stop_words=set(nltk.corpus.stopwords.words('english'))\n",
    "\n",
    "negative_list=pd.read_table(\"negative-words.txt\")\n",
    "\n"
   ]
  },
  {
   "cell_type": "code",
   "execution_count": 80,
   "metadata": {},
   "outputs": [],
   "source": [
    "bad_words=[bad for nt in negative_tweets for bad in nltk.word_tokenize(nt) if bad not in stop_words]\n",
    "p_bad=[word for word in bad_words if not word.isnumeric()]\n",
    "BadDist=nltk.FreqDist(p_bad)\n",
    "words_b=BadDist.most_common(50)"
   ]
  },
  {
   "cell_type": "code",
   "execution_count": 92,
   "metadata": {},
   "outputs": [
    {
     "data": {
      "image/png": "[encoded data removed]",
      "text/plain": [
       "<matplotlib.figure.Figure at 0x1a1629a2b0>"
      ]
     },
     "metadata": {},
     "output_type": "display_data"
    }
   ],
   "source": [
    "from wordcloud import WordCloud\n",
    "import matplotlib.pyplot as plt\n",
    "wordcloud=WordCloud()\n",
    "wordcloud.generate_from_frequencies(frequencies=BadDist)\n",
    "plt.figure()\n",
    "plt.imshow(wordcloud, interpolation=\"bilinear\")\n",
    "plt.axis(\"off\")\n",
    "plt.show()\n"
   ]
  },
  {
   "cell_type": "code",
   "execution_count": null,
   "metadata": {},
   "outputs": [],
   "source": []
  },
  {
   "cell_type": "markdown",
   "metadata": {},
   "source": [
    "# Word Cloud based on frequency of words shows that most of the tweets labelled as negative came from tweets discussing politics, we can see here the names Obama, Hillary and as a fact we know that those tweets were bashing its oponents, really small in the right corner trump2016 appears as well.  Very narcissitically the word trump is mentioned frequently. "
   ]
  }
 ],
 "metadata": {
  "kernelspec": {
   "display_name": "Python 3",
   "language": "python",
   "name": "python3"
  },
  "language_info": {
   "codemirror_mode": {
    "name": "ipython",
    "version": 3
   },
   "file_extension": ".py",
   "mimetype": "text/x-python",
   "name": "python",
   "nbconvert_exporter": "python",
   "pygments_lexer": "ipython3",
   "version": "3.6.4"
  }
 },
 "nbformat": 4,
 "nbformat_minor": 2
}
